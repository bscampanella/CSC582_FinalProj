{
 "metadata": {
  "language_info": {
   "codemirror_mode": {
    "name": "ipython",
    "version": 3
   },
   "file_extension": ".py",
   "mimetype": "text/x-python",
   "name": "python",
   "nbconvert_exporter": "python",
   "pygments_lexer": "ipython3",
   "version": "3.6.12"
  },
  "orig_nbformat": 2,
  "kernelspec": {
   "name": "python3612jvsc74a57bd01917c364b50b373201183b69312b4f370f1c66530484ad23d950c582ad587b05",
   "display_name": "Python 3.6.12 64-bit ('synqg': conda)"
  }
 },
 "nbformat": 4,
 "nbformat_minor": 2,
 "cells": [
  {
   "cell_type": "code",
   "execution_count": 6,
   "metadata": {},
   "outputs": [
    {
     "output_type": "stream",
     "name": "stdout",
     "text": [
      "[ The room fell silent when the TV newscaster reported the story of the earthquake.]\n\n   \nthe earthquake earthquake\n"
     ]
    }
   ],
   "source": [
    "from __future__ import unicode_literals\n",
    "import spacy\n",
    "nlp = spacy.load('en_core_web_sm')\n",
    "para = ''' The room fell silent when the TV newscaster reported the story of the earthquake.'''\n",
    "doc = nlp(para)\n",
    "\n",
    "# To extract sentences based on key word\n",
    "indicated_for_sents = [sent for sent in doc.sents]\n",
    "print(indicated_for_sents)\n",
    "print()\n",
    "# To extract objects of verbs\n",
    "for word in doc:\n",
    "    if word.dep_ in ('pobj'):\n",
    "        subtree_span = doc[word.left_edge.i : word.right_edge.i + 1]\n",
    "        print(subtree_span.text, word)"
   ]
  },
  {
   "cell_type": "code",
   "execution_count": 97,
   "metadata": {},
   "outputs": [
    {
     "output_type": "stream",
     "name": "stdout",
     "text": [
      "[('People', 'NNS'), ('were', 'VBD'), ('crying', 'VBG'), ('in', 'IN'), ('the', 'DT'), ('streets', 'NNS'), ('when', 'WRB'), ('they', 'PRP'), ('thought', 'VBD'), ('the', 'DT'), ('sky', 'NN'), ('was', 'VBD'), ('falling.', 'JJ')]\n(2\n  (NP People/NNS)\n  were/VBD\n  crying/VBG\n  in/IN\n  (NP the/DT streets/NNS)\n  when/WRB\n  (CLAUSE\n    (NP they/PRP)\n    (VP thought/VBD (NP the/DT sky/NN))\n    (VP was/VBD (NP falling./JJ))))\n"
     ]
    }
   ],
   "source": [
    "import nltk\n",
    "from nltk.tag import pos_tag\n",
    "import re\n",
    "\n",
    "statement = para\n",
    "statement = \"Thieves made off with Edvard Munch's, The Scream before police could stop them.\"\n",
    "statement = \"The dog was very happy because he just finished eating.\"\n",
    "statement = \"People were crying in the streets when they thought the sky was falling.\"\n",
    "sentenceParts = pos_tag(statement.split()) \n",
    "print(sentenceParts)\n",
    "\n",
    "\n",
    "def sentSegs(taggedSent, grammar, loops = 1):     # sentenceParts; grammar = \"NP: {<DT>?<JJ>*<NN>}\"\n",
    "    #if loops == \"\":\n",
    "    #    loops = \"loop=1\"\n",
    "    cp = nltk.RegexpParser(grammar, loops)\n",
    "    result = cp.parse(taggedSent)\n",
    "    return result\n",
    "\n",
    "grammar = r\"\"\"\n",
    "    NP:\n",
    "        {<.*>+}\n",
    "        }<IN|CC>+{\n",
    "\"\"\"   \n",
    "\n",
    "grammar = r\"\"\"                                                              # Mary saw the cat sit on the mat will yield\n",
    "  NP: {<DT|JJ|PRP|NN.*>+}          # Chunk sequences of DT, JJ, NN                (S\n",
    "  PP: {<IN><NP><>}              # Chunk prepositions followed by NP              (NP Mary/NN)\n",
    "  VP: {<MD>?<RB.*>?<VB.*><RB.*>?<NP|PP|RP|CLAUSE>+} # Chunk verbs and their arguments                saw/VBD\n",
    "  CLAUSE: {<NP><VP>+}           # Chunk NP, VP                                   (CLAUSE\n",
    "\"\"\"                 \n",
    "\n",
    "out = sentSegs(sentenceParts, grammar, 2)\n",
    "\n",
    "print(out)"
   ]
  },
  {
   "cell_type": "code",
   "execution_count": 96,
   "metadata": {},
   "outputs": [
    {
     "output_type": "stream",
     "name": "stdout",
     "text": [
      "possible clause found\nclause found\n['when', 'they', 'thought', 'the', 'sky', 'was', 'falling.', 'People', 'were', 'crying', 'in', 'the', 'streets']\n"
     ]
    }
   ],
   "source": [
    "\n",
    "OWL_dependent_markers = set([\"after\", \"although\", \"as\", \"as if\", \"because\", \"before\", \"even if\", \"even though\", \"if\", \"in order to\", \"since\", \"though\", \"unless\", \"until\", \"whatever\", \"when\", \"whenever\", \"whether\", \"while\"])\n",
    "\n",
    "new_str = []\n",
    "clause_found = False\n",
    "clause_at = -1\n",
    "for enum, item in enumerate(out):\n",
    "    if type(item) == nltk.Tree:\n",
    "        if clause_found:\n",
    "            for leaf in item.leaves():\n",
    "                new_str.append(leaf[0])\n",
    "        else:\n",
    "            pass\n",
    "    \n",
    "    elif type(item) == tuple:\n",
    "        if item[0] in OWL_dependent_markers and not clause_found:\n",
    "            print(\"possible clause found\")\n",
    "            if out[enum + 1].label() == \"CLAUSE\":\n",
    "                clause_found = True\n",
    "                clause_at = enum\n",
    "                new_str.append(item[0])\n",
    "                print(\"clause found\")\n",
    "        \n",
    "        elif clause_found:\n",
    "            new_str.append(item[0])\n",
    "\n",
    "if clause_found:\n",
    "    for i in range(clause_at):\n",
    "        if type(out[i]) == nltk.Tree:\n",
    "            for leaf in out[i].leaves():\n",
    "                new_str.append(leaf[0])\n",
    "        elif type(out[i]) == tuple:  \n",
    "            new_str.append(out[i][0])  \n",
    "\n",
    "print(new_str)"
   ]
  },
  {
   "cell_type": "code",
   "execution_count": null,
   "metadata": {},
   "outputs": [],
   "source": [
    "#https://www.reddit.com/r/LanguageTechnology/comments/b8xdb1/find_independent_clause_from_a_statement/\n",
    "#https://owl.purdue.edu/owl/general_writing/academic_writing/sentence_variety/similar_sentence_patterns_or_rhythms.html\n",
    "#https://owl.purdue.edu/owl/general_writing/punctuation/independent_and_dependent_clauses/index.html#:~:text=A%20dependent%20marker%20word%20is,it%20into%20a%20dependent%20clause.&text=Some%20common%20dependent%20markers%20are,whenever%2C%20whether%2C%20and%20while.\n",
    "#https://stackoverflow.com/questions/15388831/what-are-all-possible-pos-tags-of-nltk\n"
   ]
  }
 ]
}