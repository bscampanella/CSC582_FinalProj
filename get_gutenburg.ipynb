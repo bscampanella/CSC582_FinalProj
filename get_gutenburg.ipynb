{
 "metadata": {
  "language_info": {
   "codemirror_mode": {
    "name": "ipython",
    "version": 3
   },
   "file_extension": ".py",
   "mimetype": "text/x-python",
   "name": "python",
   "nbconvert_exporter": "python",
   "pygments_lexer": "ipython3",
   "version": "3.6.12"
  },
  "orig_nbformat": 2,
  "kernelspec": {
   "name": "python3612jvsc74a57bd01917c364b50b373201183b69312b4f370f1c66530484ad23d950c582ad587b05",
   "display_name": "Python 3.6.12 64-bit ('synqg': conda)"
  }
 },
 "nbformat": 4,
 "nbformat_minor": 2,
 "cells": [
  {
   "cell_type": "code",
   "execution_count": 13,
   "metadata": {},
   "outputs": [],
   "source": [
    "import nltk\n",
    "from nltk import word_tokenize, sent_tokenize\n",
    "from nltk import FreqDist\n",
    "from urllib import request\n",
    "from nltk.corpus import stopwords\n",
    "stop_words=set(stopwords.words(\"english\"))"
   ]
  },
  {
   "cell_type": "code",
   "execution_count": 2,
   "metadata": {},
   "outputs": [],
   "source": [
    "charles_dickens = [\"https://www.gutenberg.org/files/98/98-0.txt\", \"https://www.gutenberg.org/files/46/46-0.txt\", \"https://www.gutenberg.org/files/1400/1400-0.txt\", \"https://www.gutenberg.org/files/730/730-0.txt\", \"https://www.gutenberg.org/files/766/766-0.txt\"]\n",
    "\n",
    "marry_shelly = [\"https://www.gutenberg.org/files/84/84-0.txt\", \"https://www.gutenberg.org/files/18247/18247-0.txt\", \"https://www.gutenberg.org/cache/epub/15238/pg15238.txt\", \"https://www.gutenberg.org/cache/epub/6447/pg6447.txt\"]\n",
    "\n",
    "austin_jane = [\"https://www.gutenberg.org/files/1342/1342-0.txt\", \"https://www.gutenberg.org/files/158/158-0.txt\", \"https://www.gutenberg.org/files/161/161-0.txt\", \"https://www.gutenberg.org/cache/epub/105/pg105.txt\", \"https://www.gutenberg.org/files/121/121-0.txt\"]"
   ]
  },
  {
   "cell_type": "code",
   "execution_count": 3,
   "metadata": {},
   "outputs": [],
   "source": [
    "def GetRawText(url):\n",
    "    response = request.urlopen(url)\n",
    "    raw = response.read().decode('utf8')\n",
    "    #remove non book stuff\n",
    "    start_index = raw.find(\"*** START\")\n",
    "    end_of_line = raw.find(\"\\n\", start_index)\n",
    "    return raw[end_of_line : ]\n",
    "\n",
    "\n",
    "#example: get all of charles dickens work to examine statistics\n",
    "raw_str_arr = []\n",
    "for url_ in charles_dickens:\n",
    "    raw_str_arr.append( GetRawText(url_) )\n"
   ]
  },
  {
   "cell_type": "code",
   "execution_count": 8,
   "metadata": {
    "tags": []
   },
   "outputs": [
    {
     "output_type": "stream",
     "name": "stdout",
     "text": [
      "36855\nUnder the guidance of her\nChristian pastors, she entertained herself, besides, with such humane\nachievements as sentencing a youth to have his hands cut off, his tongue\ntorn out with pincers, and his body burned alive, because he had not\nkneeled down in the rain to do honour to a dirty procession of monks\nwhich passed within his view, at a distance of some fifty or sixty\nyards.\n"
     ]
    }
   ],
   "source": [
    "\n",
    "#print(raw_str_arr)\n",
    "\n",
    "all_CD_text = \" \".join(raw_str_arr)\n",
    "\n",
    "#print(raw_str)\n",
    "\n",
    "tokenized_sentences_CD = sent_tokenize(all_CD_text)\n",
    "print(len(tokenized_sentences_CD))\n",
    "print(tokenized_sentences_CD[10])"
   ]
  },
  {
   "cell_type": "code",
   "execution_count": 9,
   "metadata": {
    "tags": []
   },
   "outputs": [
    {
     "output_type": "stream",
     "name": "stdout",
     "text": [
      "29.529534662867995\n"
     ]
    }
   ],
   "source": [
    "def avgLenSentence(list_of_sentences):\n",
    "    sent_len = []\n",
    "    for ts in list_of_sentences:\n",
    "        sent_len.append(len(word_tokenize(ts)))\n",
    "\n",
    "    return (sum(sent_len)/len(sent_len))\n",
    "\n",
    "CD_avg_sent_len = avgLenSentence(tokenized_sentences_CD)\n",
    "print(CD_avg_sent_len)"
   ]
  },
  {
   "cell_type": "code",
   "execution_count": 21,
   "metadata": {},
   "outputs": [],
   "source": [
    "#try and identify most commonly used non-stopwords\n",
    "\n",
    "def most_common_words(raw_text):\n",
    "    tokenized_words = word_tokenize(raw_text)\n",
    "    cleaned_words = []\n",
    "\n",
    "    for w in tokenized_words:\n",
    "        w = w.lower()\n",
    "        if w not in stop_words and w not in \"\"\",.'\"!?;:`~--()\"\"\":\n",
    "            cleaned_words.append(w)\n",
    "    \n",
    "    fqdst = FreqDist(cleaned_words)\n",
    "\n",
    "    return fqdst\n",
    "\n",
    "CDFqdst = most_common_words(all_CD_text)"
   ]
  },
  {
   "cell_type": "code",
   "execution_count": 26,
   "metadata": {},
   "outputs": [
    {
     "output_type": "stream",
     "name": "stdout",
     "text": [
      "[('’', 18751), ('“', 11342), ('”', 11169), ('‘', 7819), ('said', 6409), ('mr.', 4774), ('would', 2438), ('one', 2406), ('little', 2070), ('upon', 2066), ('could', 1956), ('know', 1755), ('old', 1635), ('time', 1633), ('man', 1446), ('never', 1391), ('come', 1385), ('much', 1374), ('miss', 1372), ('like', 1343), ('made', 1337), ('see', 1291), ('say', 1279), ('hand', 1236), ('good', 1225), ('well', 1210), ('dear', 1175), ('head', 1136), ('think', 1125), ('mrs.', 1112), ('way', 1097), ('looked', 1088), ('went', 1086), ('us', 1070), ('back', 1018), ('came', 1016), ('two', 1015), ('face', 998), ('might', 996), ('great', 994), ('go', 946), ('away', 936), ('long', 930), ('eyes', 922), ('day', 896), ('night', 889), ('ever', 884), ('thought', 881), ('young', 878), ('first', 875), ('oliver', 871), ('may', 863), ('must', 855), ('micawber', 844), ('saw', 842), ('look', 833), ('looking', 825), ('aunt', 822), ('took', 815), ('sir', 802), ('put', 799), ('nothing', 798), ('without', 798), ('quite', 782), ('peggotty', 782), ('another', 778), ('replied', 774), ('got', 760), ('house', 759), ('going', 758), ('joe', 750), ('take', 750), ('door', 747), ('mind', 747), (\"''\", 747), ('boy', 738), ('room', 735), ('life', 724), ('returned', 720), ('last', 713), ('make', 707), ('``', 707), ('always', 702), ('done', 697), ('hands', 669), ('gentleman', 666), ('many', 653), ('still', 644), ('doctor', 644), ('even', 637), ('round', 627), ('left', 618), ('place', 617), ('though', 614), ('home', 613), ('mother', 609), ('better', 607), ('tell', 602), ('sat', 602), ('yes', 600)]\n4774\n"
     ]
    }
   ],
   "source": [
    "print(CDFqdst.most_common(100))\n",
    "\n",
    "f = CDFqdst[\"mr.\"]\n",
    "print(f)"
   ]
  },
  {
   "cell_type": "code",
   "execution_count": null,
   "metadata": {},
   "outputs": [],
   "source": []
  }
 ]
}